{
 "cells": [
  {
   "cell_type": "markdown",
   "metadata": {},
   "source": [
    "# Multi variable regression"
   ]
  },
  {
   "cell_type": "code",
   "execution_count": 1,
   "metadata": {},
   "outputs": [],
   "source": [
    "import time\n",
    "import pandas as pd\n",
    "import numpy as np\n",
    "import matplotlib.pyplot as plt\n",
    "from sklearn import linear_model\n",
    "from sklearn.cross_decomposition import PLSRegression\n",
    "from sklearn.linear_model import LassoCV, LassoLarsCV, LassoLarsIC\n",
    "from statsmodels.stats.outliers_influence import variance_inflation_factor"
   ]
  },
  {
   "cell_type": "markdown",
   "metadata": {},
   "source": [
    "#### Read data"
   ]
  },
  {
   "cell_type": "code",
   "execution_count": 2,
   "metadata": {},
   "outputs": [],
   "source": [
    "df = pd.read_csv('data/table_8_offenses_known_to_law_enforcement_oregon_by_city_2013.csv',\\\n",
    "                header=0, names=['city','pop','violent','murder','revised_rape',\\\n",
    "                'legacy_rape','robbery','assault','property','burglary','larceny',\\\n",
    "                'vehicle_theft','arson'])\n",
    "df.replace('\\,','',regex=True, inplace=True)\n",
    "df.fillna(1010101,inplace=True)\n",
    "\n",
    "crime_data = pd.DataFrame(df).astype({'pop':'int64','violent':'int64','murder':'int64',\\\n",
    "                                   'revised_rape':'int64','legacy_rape':'int64',\\\n",
    "                                   'robbery':'int64','assault':'int64','property':'int64',\\\n",
    "                                   'burglary':'int64','larceny':'int64','vehicle_theft':'int64',\\\n",
    "                                   'arson':'int64'})\n",
    "crime_data.replace(1010101,'',inplace=True)\n"
   ]
  },
  {
   "cell_type": "markdown",
   "metadata": {},
   "source": [
    "#### Make indicator variables  \n",
    "The instructions called for indicator variables, but they were not useful."
   ]
  },
  {
   "cell_type": "code",
   "execution_count": 3,
   "metadata": {},
   "outputs": [],
   "source": [
    "crime_data['indicator_murder'] = np.where(crime_data['murder']>0,1,\\\n",
    "        np.where(crime_data['murder']==0,0,'nd'))\n",
    "crime_data['indicator_robbery'] = np.where(crime_data['robbery']>0,1,\\\n",
    "        np.where(crime_data['robbery']==0,0,'nd'))\n",
    "crime_data['indicator_violent'] = np.where(crime_data['violent']>0,1,\\\n",
    "        np.where(crime_data['violent']==0,0,'nd'))\n"
   ]
  },
  {
   "cell_type": "markdown",
   "metadata": {},
   "source": [
    "#### Perform regression  \n",
    "Performed a multivariable regression with SKLearn. Also, looked at BIC and AIC for best model."
   ]
  },
  {
   "cell_type": "code",
   "execution_count": 4,
   "metadata": {},
   "outputs": [
    {
     "data": {
      "text/plain": [
       "LassoLarsIC(copy_X=True, criterion='aic', eps=2.220446049250313e-16,\n",
       "      fit_intercept=True, max_iter=500, normalize=True, positive=False,\n",
       "      precompute='auto', verbose=False)"
      ]
     },
     "execution_count": 4,
     "metadata": {},
     "output_type": "execute_result"
    }
   ],
   "source": [
    "regr = linear_model.LinearRegression()\n",
    "Y = crime_data['property'].values.reshape(-1, 1)\n",
    "y = crime_data['property']\n",
    "X = crime_data[['violent','murder',\\\n",
    "                'robbery','assault','burglary','larceny',\\\n",
    "                'vehicle_theft','arson']]\n",
    "#X = crime_data[['larceny']]\n",
    "regr.fit(X, Y)\n",
    "\n",
    "model_bic = LassoLarsIC(criterion='bic')\n",
    "#t1 = time.time()\n",
    "model_bic.fit(X, y)\n",
    "#t_bic = time.time() - t1\n",
    "alpha_bic_ = model_bic.alpha_\n",
    "\n",
    "model_aic = LassoLarsIC(criterion='aic')\n",
    "model_aic.fit(X, y)\n",
    "alpha_aic_ = model_aic.alpha_\n",
    "model_aic"
   ]
  },
  {
   "cell_type": "code",
   "execution_count": 5,
   "metadata": {},
   "outputs": [
    {
     "name": "stdout",
     "output_type": "stream",
     "text": [
      "\n",
      "Coefficients: \n",
      " [[-6.16638844e-14  1.22568622e-13  8.44879722e-14  3.84414722e-14\n",
      "   1.00000000e+00  1.00000000e+00  1.00000000e+00 -2.14359780e-14]]\n",
      "\n",
      "Intercept: \n",
      " [6.82121026e-13]\n",
      "\n",
      "R-squared:\n",
      "1.0\n"
     ]
    }
   ],
   "source": [
    "print('\\nCoefficients: \\n', regr.coef_)\n",
    "print('\\nIntercept: \\n', regr.intercept_)\n",
    "print('\\nR-squared:')\n",
    "print(regr.score(X, Y))"
   ]
  },
  {
   "cell_type": "markdown",
   "metadata": {},
   "source": [
    "#### A little residual analysis  \n",
    "The residuals do not look normal when using the full dataset."
   ]
  },
  {
   "cell_type": "code",
   "execution_count": 6,
   "metadata": {},
   "outputs": [],
   "source": [
    "predicted = regr.predict(X).ravel()\n",
    "actual = crime_data['property']\n",
    "\n",
    "residuals = actual - predicted\n"
   ]
  },
  {
   "cell_type": "code",
   "execution_count": 7,
   "metadata": {},
   "outputs": [
    {
     "data": {
      "image/png": "[encoded data removed]",
      "text/plain": [
       "<Figure size 432x288 with 1 Axes>"
      ]
     },
     "metadata": {},
     "output_type": "display_data"
    }
   ],
   "source": [
    "plt.hist(residuals)\n",
    "plt.grid()\n",
    "plt.show()"
   ]
  },
  {
   "cell_type": "markdown",
   "metadata": {},
   "source": [
    "#### Correlation matrix and variance inflation factors  \n",
    "Highly correlated independent variables. Used variance inflation factors to pare down to murder and arson to predict property crimes.  "
   ]
  },
  {
   "cell_type": "code",
   "execution_count": 8,
   "metadata": {},
   "outputs": [
    {
     "data": {
      "text/html": [
       "<div>\n",
       "<style scoped>\n",
       "    .dataframe tbody tr th:only-of-type {\n",
       "        vertical-align: middle;\n",
       "    }\n",
       "\n",
       "    .dataframe tbody tr th {\n",
       "        vertical-align: top;\n",
       "    }\n",
       "\n",
       "    .dataframe thead th {\n",
       "        text-align: right;\n",
       "    }\n",
       "</style>\n",
       "<table border=\"1\" class=\"dataframe\">\n",
       "  <thead>\n",
       "    <tr style=\"text-align: right;\">\n",
       "      <th></th>\n",
       "      <th>violent</th>\n",
       "      <th>murder</th>\n",
       "      <th>robbery</th>\n",
       "      <th>assault</th>\n",
       "      <th>burglary</th>\n",
       "      <th>larceny</th>\n",
       "      <th>vehicle_theft</th>\n",
       "      <th>arson</th>\n",
       "    </tr>\n",
       "  </thead>\n",
       "  <tbody>\n",
       "    <tr>\n",
       "      <th>violent</th>\n",
       "      <td>1.000000</td>\n",
       "      <td>0.917094</td>\n",
       "      <td>0.990346</td>\n",
       "      <td>0.996275</td>\n",
       "      <td>0.969813</td>\n",
       "      <td>0.983429</td>\n",
       "      <td>0.987360</td>\n",
       "      <td>0.952776</td>\n",
       "    </tr>\n",
       "    <tr>\n",
       "      <th>murder</th>\n",
       "      <td>0.917094</td>\n",
       "      <td>1.000000</td>\n",
       "      <td>0.906981</td>\n",
       "      <td>0.914492</td>\n",
       "      <td>0.886044</td>\n",
       "      <td>0.895635</td>\n",
       "      <td>0.914381</td>\n",
       "      <td>0.861246</td>\n",
       "    </tr>\n",
       "    <tr>\n",
       "      <th>robbery</th>\n",
       "      <td>0.990346</td>\n",
       "      <td>0.906981</td>\n",
       "      <td>1.000000</td>\n",
       "      <td>0.975136</td>\n",
       "      <td>0.977624</td>\n",
       "      <td>0.974759</td>\n",
       "      <td>0.985255</td>\n",
       "      <td>0.937188</td>\n",
       "    </tr>\n",
       "    <tr>\n",
       "      <th>assault</th>\n",
       "      <td>0.996275</td>\n",
       "      <td>0.914492</td>\n",
       "      <td>0.975136</td>\n",
       "      <td>1.000000</td>\n",
       "      <td>0.952535</td>\n",
       "      <td>0.976357</td>\n",
       "      <td>0.978697</td>\n",
       "      <td>0.948751</td>\n",
       "    </tr>\n",
       "    <tr>\n",
       "      <th>burglary</th>\n",
       "      <td>0.969813</td>\n",
       "      <td>0.886044</td>\n",
       "      <td>0.977624</td>\n",
       "      <td>0.952535</td>\n",
       "      <td>1.000000</td>\n",
       "      <td>0.989912</td>\n",
       "      <td>0.979104</td>\n",
       "      <td>0.966993</td>\n",
       "    </tr>\n",
       "    <tr>\n",
       "      <th>larceny</th>\n",
       "      <td>0.983429</td>\n",
       "      <td>0.895635</td>\n",
       "      <td>0.974759</td>\n",
       "      <td>0.976357</td>\n",
       "      <td>0.989912</td>\n",
       "      <td>1.000000</td>\n",
       "      <td>0.985015</td>\n",
       "      <td>0.976707</td>\n",
       "    </tr>\n",
       "    <tr>\n",
       "      <th>vehicle_theft</th>\n",
       "      <td>0.987360</td>\n",
       "      <td>0.914381</td>\n",
       "      <td>0.985255</td>\n",
       "      <td>0.978697</td>\n",
       "      <td>0.979104</td>\n",
       "      <td>0.985015</td>\n",
       "      <td>1.000000</td>\n",
       "      <td>0.940570</td>\n",
       "    </tr>\n",
       "    <tr>\n",
       "      <th>arson</th>\n",
       "      <td>0.952776</td>\n",
       "      <td>0.861246</td>\n",
       "      <td>0.937188</td>\n",
       "      <td>0.948751</td>\n",
       "      <td>0.966993</td>\n",
       "      <td>0.976707</td>\n",
       "      <td>0.940570</td>\n",
       "      <td>1.000000</td>\n",
       "    </tr>\n",
       "  </tbody>\n",
       "</table>\n",
       "</div>"
      ],
      "text/plain": [
       "                violent    murder   robbery   assault  burglary   larceny  \\\n",
       "violent        1.000000  0.917094  0.990346  0.996275  0.969813  0.983429   \n",
       "murder         0.917094  1.000000  0.906981  0.914492  0.886044  0.895635   \n",
       "robbery        0.990346  0.906981  1.000000  0.975136  0.977624  0.974759   \n",
       "assault        0.996275  0.914492  0.975136  1.000000  0.952535  0.976357   \n",
       "burglary       0.969813  0.886044  0.977624  0.952535  1.000000  0.989912   \n",
       "larceny        0.983429  0.895635  0.974759  0.976357  0.989912  1.000000   \n",
       "vehicle_theft  0.987360  0.914381  0.985255  0.978697  0.979104  0.985015   \n",
       "arson          0.952776  0.861246  0.937188  0.948751  0.966993  0.976707   \n",
       "\n",
       "               vehicle_theft     arson  \n",
       "violent             0.987360  0.952776  \n",
       "murder              0.914381  0.861246  \n",
       "robbery             0.985255  0.937188  \n",
       "assault             0.978697  0.948751  \n",
       "burglary            0.979104  0.966993  \n",
       "larceny             0.985015  0.976707  \n",
       "vehicle_theft       1.000000  0.940570  \n",
       "arson               0.940570  1.000000  "
      ]
     },
     "metadata": {},
     "output_type": "display_data"
    }
   ],
   "source": [
    "correlation_matrix = X.corr()\n",
    "display(correlation_matrix)\n",
    "\n",
    "#X.drop(['violent','larceny','burglary','vehicle_theft','assault','robbery'], axis=1, inplace=True)\n",
    "vif = pd.DataFrame()\n",
    "vif[\"VIF Factor\"] = [variance_inflation_factor(X.values, i) for i in range(X.shape[1])]\n",
    "vif[\"variables\"] = X.columns\n"
   ]
  },
  {
   "cell_type": "code",
   "execution_count": 9,
   "metadata": {},
   "outputs": [
    {
     "name": "stdout",
     "output_type": "stream",
     "text": [
      "\n",
      "Coefficients: \n",
      " [[441.22758305 127.82471867]]\n",
      "\n",
      "Intercept: \n",
      " [-58.81082822]\n",
      "\n",
      "R-squared:\n",
      "0.9624691771707916\n"
     ]
    }
   ],
   "source": [
    "regr = linear_model.LinearRegression()\n",
    "Y_murder = crime_data['property'].values.reshape(-1, 1)\n",
    "X_murder = crime_data[['murder','arson']]\n",
    "                \n",
    "regr.fit(X_murder, Y_murder)\n",
    "print('\\nCoefficients: \\n', regr.coef_)\n",
    "print('\\nIntercept: \\n', regr.intercept_)\n",
    "print('\\nR-squared:')\n",
    "print(regr.score(X_murder, Y_murder))"
   ]
  },
  {
   "cell_type": "markdown",
   "metadata": {},
   "source": [
    "#### Looked at partial linear regression  "
   ]
  },
  {
   "cell_type": "code",
   "execution_count": 10,
   "metadata": {},
   "outputs": [
    {
     "name": "stdout",
     "output_type": "stream",
     "text": [
      "R-squared regression: 1.0\n",
      "R-squared PLSR: 0.9965428368014031\n"
     ]
    },
    {
     "data": {
      "image/png": "[encoded data removed]",
      "text/plain": [
       "<Figure size 432x288 with 1 Axes>"
      ]
     },
     "metadata": {},
     "output_type": "display_data"
    }
   ],
   "source": [
    "\n",
    "regr = linear_model.LinearRegression()\n",
    "regr.fit(X, Y)\n",
    "\n",
    "# Save predicted values.\n",
    "Y_pred = regr.predict(X)\n",
    "print('R-squared regression:', regr.score(X, Y))\n",
    "pls1 = PLSRegression(n_components=2)\n",
    "\n",
    "# Reduce X to R(X) and regress on y.\n",
    "pls1.fit(X, Y)\n",
    "\n",
    "# Save predicted values.\n",
    "Y_PLS_pred = pls1.predict(X)\n",
    "print('R-squared PLSR:', pls1.score(X, Y))\n",
    "\n",
    "# Compare the predictions of the two models\n",
    "plt.scatter(predicted,Y_PLS_pred) \n",
    "plt.xlabel('Predicted by original 7 features')\n",
    "plt.ylabel('Predicted by 2 features')\n",
    "plt.title('Comparing LR and PLSR predictions')\n",
    "plt.show()"
   ]
  },
  {
   "cell_type": "markdown",
   "metadata": {},
   "source": [
    "#### Read a second dataset to test model against  "
   ]
  },
  {
   "cell_type": "code",
   "execution_count": 11,
   "metadata": {},
   "outputs": [],
   "source": [
    "ny_df = pd.read_csv('data/table_8_offenses_known_to_law_enforcement_new_york_by_city_2013.csv',\\\n",
    "                header=0, names=['city','pop','violent','murder','revised_rape',\\\n",
    "                'legacy_rape','robbery','assault','property','burglary','larceny',\\\n",
    "                'vehicle_theft','arson'])\n",
    "ny_df.replace('\\,','',regex=True, inplace=True)\n",
    "ny_df.fillna(0,inplace=True)\n",
    "\n",
    "crime_data_ny = pd.DataFrame(ny_df).astype({'pop':'int64','violent':'int64','murder':'int64',\\\n",
    "                                   'revised_rape':'int64','legacy_rape':'int64',\\\n",
    "                                   'robbery':'int64','assault':'int64','property':'int64',\\\n",
    "                                   'burglary':'int64','larceny':'int64','vehicle_theft':'int64',\\\n",
    "                                   'arson':'int64'})\n",
    "\n"
   ]
  },
  {
   "cell_type": "markdown",
   "metadata": {},
   "source": [
    "#### Calculated the  model against new data  \n",
    "One point seems to have a an undue effect on the regression. Also, take out zeros in independent variables, since we are unsure if the zeros are actually no data."
   ]
  },
  {
   "cell_type": "code",
   "execution_count": 15,
   "metadata": {},
   "outputs": [
    {
     "data": {
      "image/png": "[encoded data removed]",
      "text/plain": [
       "<Figure size 432x288 with 1 Axes>"
      ]
     },
     "metadata": {},
     "output_type": "display_data"
    }
   ],
   "source": [
    "crime_data_ny = crime_data_ny.loc[(crime_data_ny['arson']!=0)&(crime_data_ny['murder']!=0)]\n",
    "prop_new = -58.81082822 + 441.22758305 * crime_data_ny['murder'] \\\n",
    "     + 127.8247186 * crime_data_ny['arson']\n",
    "\n",
    "plt.scatter(crime_data_ny['property'],prop_new)\n",
    "plt.xlabel('Actual values')\n",
    "plt.ylabel('Predicted labels')\n",
    "plt.grid()\n",
    "plt.show()"
   ]
  },
  {
   "cell_type": "markdown",
   "metadata": {},
   "source": [
    "#### Remove points over 140000  "
   ]
  },
  {
   "cell_type": "markdown",
   "metadata": {},
   "source": [
    "#### Looked at model predictions  \n",
    "The model predictions are marginal. Again "
   ]
  },
  {
   "cell_type": "code",
   "execution_count": 16,
   "metadata": {},
   "outputs": [
    {
     "name": "stdout",
     "output_type": "stream",
     "text": [
      "\n",
      "Coefficients: \n",
      " [[0.27674311]]\n",
      "\n",
      "Intercept: \n",
      " [734.7812551]\n",
      "\n",
      "R-squared:\n",
      "0.9190302797424157\n"
     ]
    }
   ],
   "source": [
    "regr = linear_model.LinearRegression()\n",
    "Y_test = crime_data_ny['property'].values.reshape(-1, 1)\n",
    "X_test = prop_new.values.reshape(-1, 1)\n",
    "regr.fit(X_test, Y_test)\n",
    "print('\\nCoefficients: \\n', regr.coef_)\n",
    "print('\\nIntercept: \\n', regr.intercept_)\n",
    "print('\\nR-squared:')\n",
    "print(regr.score(X_test, Y_test))"
   ]
  },
  {
   "cell_type": "code",
   "execution_count": null,
   "metadata": {},
   "outputs": [],
   "source": []
  }
 ],
 "metadata": {
  "kernelspec": {
   "display_name": "Python 3",
   "language": "python",
   "name": "python3"
  },
  "language_info": {
   "codemirror_mode": {
    "name": "ipython",
    "version": 3
   },
   "file_extension": ".py",
   "mimetype": "text/x-python",
   "name": "python",
   "nbconvert_exporter": "python",
   "pygments_lexer": "ipython3",
   "version": "3.7.0"
  },
  "toc": {
   "base_numbering": 1,
   "nav_menu": {},
   "number_sections": true,
   "sideBar": true,
   "skip_h1_title": true,
   "title_cell": "",
   "title_sidebar": "Contents",
   "toc_cell": false,
   "toc_position": {
    "height": "calc(100% - 180px)",
    "left": "10px",
    "top": "150px",
    "width": "165px"
   },
   "toc_section_display": true,
   "toc_window_display": true
  }
 },
 "nbformat": 4,
 "nbformat_minor": 2
}
