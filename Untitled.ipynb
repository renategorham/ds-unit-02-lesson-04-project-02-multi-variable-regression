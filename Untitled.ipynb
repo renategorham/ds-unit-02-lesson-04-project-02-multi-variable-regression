{
 "cells": [
  {
   "cell_type": "code",
   "execution_count": 15,
   "metadata": {},
   "outputs": [],
   "source": [
    "import pandas as pd\n",
    "import numpy as np\n",
    "import matplotlib.pyplot as plt\n",
    "from sklearn import linear_model"
   ]
  },
  {
   "cell_type": "code",
   "execution_count": 16,
   "metadata": {},
   "outputs": [],
   "source": [
    "df = pd.read_csv('data/table_8_offenses_known_to_law_enforcement_oregon_by_city_2013.csv',\\\n",
    "                header=0, names=['city','pop','violent','murder','revised_rape',\\\n",
    "                'legacy_rape','robbery','assault','property','burglary','larceny',\\\n",
    "                'vehicle_theft','arson'])\n",
    "df.replace('\\,','',regex=True, inplace=True)\n",
    "df.fillna(1010101,inplace=True)\n",
    "\n",
    "crime_data = pd.DataFrame(df).astype({'pop':'int64','violent':'int64','murder':'int64',\\\n",
    "                                   'revised_rape':'int64','legacy_rape':'int64',\\\n",
    "                                   'robbery':'int64','assault':'int64','property':'int64',\\\n",
    "                                   'burglary':'int64','larceny':'int64','vehicle_theft':'int64',\\\n",
    "                                   'arson':'int64'})\n",
    "crime_data.replace(1010101,'',inplace=True)\n"
   ]
  },
  {
   "cell_type": "markdown",
   "metadata": {},
   "source": [
    "Propertycrime=α+Population+Population2+Murder+Robbery"
   ]
  },
  {
   "cell_type": "code",
   "execution_count": 22,
   "metadata": {},
   "outputs": [],
   "source": [
    "crime_data['indicator_murder'] = np.where(crime_data['murder']>0,1,\\\n",
    "        np.where(crime_data['murder']==0,0,'nd'))\n",
    "crime_data['indicator_robbery'] = np.where(crime_data['robbery']>0,1,\\\n",
    "        np.where(crime_data['robbery']==0,0,'nd'))\n",
    "crime_data['indicator_violent'] = np.where(crime_data['violent']>0,1,\\\n",
    "        np.where(crime_data['violent']==0,0,'nd'))\n"
   ]
  },
  {
   "cell_type": "markdown",
   "metadata": {},
   "source": [
    "plt.hist(crime_data['pop'])\n",
    "plt.title('Population')\n",
    "plt.grid()\n",
    "plt.show()\n",
    "plt.hist(crime_data['murder'])\n",
    "plt.title('Incedences of Murder')\n",
    "plt.grid()\n",
    "plt.show()\n",
    "plt.hist(crime_data['robbery'])\n",
    "plt.title('Incedences of Robbery')\n",
    "plt.grid()\n",
    "plt.show()\n",
    "plt.hist(crime_data['violent'])\n",
    "plt.title('Incedences of Violent Crime')\n",
    "plt.grid()\n",
    "plt.show()"
   ]
  },
  {
   "cell_type": "code",
   "execution_count": 30,
   "metadata": {},
   "outputs": [
    {
     "data": {
      "text/plain": [
       "LinearRegression(copy_X=True, fit_intercept=True, n_jobs=1, normalize=False)"
      ]
     },
     "execution_count": 30,
     "metadata": {},
     "output_type": "execute_result"
    }
   ],
   "source": [
    "regr = linear_model.LinearRegression()\n",
    "Y = crime_data['property'].values.reshape(-1, 1)\n",
    "X = crime_data[['pop','murder','robbery','violent']]\n",
    "regr.fit(X, Y)"
   ]
  },
  {
   "cell_type": "code",
   "execution_count": 31,
   "metadata": {},
   "outputs": [
    {
     "name": "stdout",
     "output_type": "stream",
     "text": [
      "\n",
      "Coefficients: \n",
      " [[ 2.57864506e-02 -6.99014204e+01  3.12036655e+00  4.12840454e+00]]\n",
      "\n",
      "Intercept: \n",
      " [-9.3692785]\n",
      "\n",
      "R-squared:\n",
      "0.986474966307805\n"
     ]
    }
   ],
   "source": [
    "print('\\nCoefficients: \\n', regr.coef_)\n",
    "print('\\nIntercept: \\n', regr.intercept_)\n",
    "print('\\nR-squared:')\n",
    "print(regr.score(X, Y))"
   ]
  },
  {
   "cell_type": "code",
   "execution_count": 32,
   "metadata": {},
   "outputs": [],
   "source": [
    "predicted = regr.predict(X).ravel()\n",
    "actual = crime_data['property']\n",
    "\n",
    "residuals = actual - predicted\n"
   ]
  },
  {
   "cell_type": "code",
   "execution_count": 33,
   "metadata": {},
   "outputs": [
    {
     "data": {
      "image/png": "[encoded data removed]",
      "text/plain": [
       "<Figure size 432x288 with 1 Axes>"
      ]
     },
     "metadata": {},
     "output_type": "display_data"
    }
   ],
   "source": [
    "plt.hist(residuals)\n",
    "plt.grid()\n",
    "plt.show()"
   ]
  },
  {
   "cell_type": "code",
   "execution_count": 34,
   "metadata": {},
   "outputs": [
    {
     "data": {
      "image/png": "[encoded data removed]",
      "text/plain": [
       "<Figure size 432x288 with 1 Axes>"
      ]
     },
     "metadata": {},
     "output_type": "display_data"
    }
   ],
   "source": [
    "plt.scatter(predicted, residuals)\n",
    "plt.grid()\n",
    "plt.show()"
   ]
  },
  {
   "cell_type": "code",
   "execution_count": 35,
   "metadata": {},
   "outputs": [
    {
     "data": {
      "text/html": [
       "<div>\n",
       "<style scoped>\n",
       "    .dataframe tbody tr th:only-of-type {\n",
       "        vertical-align: middle;\n",
       "    }\n",
       "\n",
       "    .dataframe tbody tr th {\n",
       "        vertical-align: top;\n",
       "    }\n",
       "\n",
       "    .dataframe thead th {\n",
       "        text-align: right;\n",
       "    }\n",
       "</style>\n",
       "<table border=\"1\" class=\"dataframe\">\n",
       "  <thead>\n",
       "    <tr style=\"text-align: right;\">\n",
       "      <th></th>\n",
       "      <th>pop</th>\n",
       "      <th>murder</th>\n",
       "      <th>robbery</th>\n",
       "      <th>violent</th>\n",
       "    </tr>\n",
       "  </thead>\n",
       "  <tbody>\n",
       "    <tr>\n",
       "      <th>pop</th>\n",
       "      <td>1.000000</td>\n",
       "      <td>0.893584</td>\n",
       "      <td>0.965210</td>\n",
       "      <td>0.970871</td>\n",
       "    </tr>\n",
       "    <tr>\n",
       "      <th>murder</th>\n",
       "      <td>0.893584</td>\n",
       "      <td>1.000000</td>\n",
       "      <td>0.906981</td>\n",
       "      <td>0.917094</td>\n",
       "    </tr>\n",
       "    <tr>\n",
       "      <th>robbery</th>\n",
       "      <td>0.965210</td>\n",
       "      <td>0.906981</td>\n",
       "      <td>1.000000</td>\n",
       "      <td>0.990346</td>\n",
       "    </tr>\n",
       "    <tr>\n",
       "      <th>violent</th>\n",
       "      <td>0.970871</td>\n",
       "      <td>0.917094</td>\n",
       "      <td>0.990346</td>\n",
       "      <td>1.000000</td>\n",
       "    </tr>\n",
       "  </tbody>\n",
       "</table>\n",
       "</div>"
      ],
      "text/plain": [
       "              pop    murder   robbery   violent\n",
       "pop      1.000000  0.893584  0.965210  0.970871\n",
       "murder   0.893584  1.000000  0.906981  0.917094\n",
       "robbery  0.965210  0.906981  1.000000  0.990346\n",
       "violent  0.970871  0.917094  0.990346  1.000000"
      ]
     },
     "metadata": {},
     "output_type": "display_data"
    }
   ],
   "source": [
    "correlation_matrix = X.corr()\n",
    "display(correlation_matrix)"
   ]
  },
  {
   "cell_type": "code",
   "execution_count": null,
   "metadata": {},
   "outputs": [],
   "source": []
  }
 ],
 "metadata": {
  "kernelspec": {
   "display_name": "Python 3",
   "language": "python",
   "name": "python3"
  },
  "language_info": {
   "codemirror_mode": {
    "name": "ipython",
    "version": 3
   },
   "file_extension": ".py",
   "mimetype": "text/x-python",
   "name": "python",
   "nbconvert_exporter": "python",
   "pygments_lexer": "ipython3",
   "version": "3.7.0"
  },
  "toc": {
   "base_numbering": 1,
   "nav_menu": {},
   "number_sections": true,
   "sideBar": true,
   "skip_h1_title": true,
   "title_cell": "",
   "title_sidebar": "Contents",
   "toc_cell": false,
   "toc_position": {},
   "toc_section_display": true,
   "toc_window_display": true
  }
 },
 "nbformat": 4,
 "nbformat_minor": 2
}
